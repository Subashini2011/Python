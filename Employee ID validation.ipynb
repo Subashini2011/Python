{
 "cells": [
  {
   "cell_type": "code",
   "execution_count": 6,
   "id": "e1501b7f",
   "metadata": {},
   "outputs": [
    {
     "name": "stdout",
     "output_type": "stream",
     "text": [
      "enter the number5\n",
      "not in the department 1\n",
      "not in the department 2\n",
      "sri,22,web developer,chennai,60000\n",
      "not in the department 4\n",
      "not in the department 5\n"
     ]
    }
   ],
   "source": [
    "class Employee():\n",
    "    id=int(input(\"enter the number\"))\n",
    "    \n",
    "    def department1(self):\n",
    "            if(self.id==1):\n",
    "                print(\"priya,23,software developer,chennai,40000\")\n",
    "            elif(self.id==2):\n",
    "                print(\"surya,24,data analyst,bangalore,50000\")\n",
    "            else:\n",
    "                print(\"not in the department 1\")\n",
    "    def department2(self):\n",
    "            if(self.id==3):\n",
    "                 print(\"pranesh,22,web developer,chennai,60000\")\n",
    "            elif(self.id==4):\n",
    "                 print(\"srimugi,22,BDA,chennai,50000\")\n",
    "            else:\n",
    "                 print(\"not in the department 2\")\n",
    "\n",
    "    def department3(self):\n",
    "            if (self.id == 5):\n",
    "                print(\"sri,22,web developer,chennai,60000\")\n",
    "            elif (self.id == 6):\n",
    "                print(\"hema,22,BDA,chennai,50000\")\n",
    "            else:\n",
    "                print(\"not in the department 3\")\n",
    "  \n",
    "    def department4(self):\n",
    "            if (self.id == 7):\n",
    "                print(\"swathi,22,web developer,chennai,60000\")\n",
    "            elif (self.id == 8):\n",
    "                print(\"abi,22,BDA,chennai,50000\")\n",
    "            else:\n",
    "                print(\"not in the department 4\")      \n",
    "            \n",
    "    def department5(self):\n",
    "            if (self.id == 9):\n",
    "                print(\"pranesh,22,web developer,chennai,60000\")\n",
    "            elif (self.id == 10):\n",
    "                print(\"prithika,22,BDA,chennai,50000\")\n",
    "            else:\n",
    "                print(\"not in the department 5\")\n",
    "\n",
    "a=Employee()\n",
    "a.department1()\n",
    "a.department2()\n",
    "a.department3()\n",
    "a.department4()\n",
    "a.department5()"
   ]
  },
  {
   "cell_type": "code",
   "execution_count": null,
   "id": "7a34226c",
   "metadata": {},
   "outputs": [],
   "source": []
  }
 ],
 "metadata": {
  "kernelspec": {
   "display_name": "Python 3 (ipykernel)",
   "language": "python",
   "name": "python3"
  },
  "language_info": {
   "codemirror_mode": {
    "name": "ipython",
    "version": 3
   },
   "file_extension": ".py",
   "mimetype": "text/x-python",
   "name": "python",
   "nbconvert_exporter": "python",
   "pygments_lexer": "ipython3",
   "version": "3.9.7"
  }
 },
 "nbformat": 4,
 "nbformat_minor": 5
}
